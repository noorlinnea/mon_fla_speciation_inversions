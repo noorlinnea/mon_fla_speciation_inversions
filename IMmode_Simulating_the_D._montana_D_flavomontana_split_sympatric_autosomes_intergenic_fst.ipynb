{
 "cells": [
  {
   "cell_type": "markdown",
   "id": "9ce87eec",
   "metadata": {},
   "source": [
    "# Simulating the D. montana D. flavomontana split "
   ]
  },
  {
   "cell_type": "code",
   "execution_count": 1,
   "id": "ff448cc1",
   "metadata": {},
   "outputs": [],
   "source": [
    "import msprime\n",
    "import tskit\n",
    "import numpy as np\n",
    "import pandas as pd\n",
    "import allel\n",
    "import seaborn as sns\n",
    "sns.set_theme(style=\"whitegrid\")\n",
    "from IPython.display import SVG, set_matplotlib_formats\n",
    "from matplotlib import pyplot as plt\n",
    "plt.rcParams['figure.figsize'] = [15, 7]\n",
    "#jupyter magic\n",
    "%matplotlib inline"
   ]
  },
  {
   "cell_type": "markdown",
   "id": "1c13e39a",
   "metadata": {},
   "source": [
    "The unscaled parameters from gIMble optimize; isolation with migration (IM) model are:"
   ]
  },
  {
   "cell_type": "code",
   "execution_count": 2,
   "id": "4bcdc32f",
   "metadata": {},
   "outputs": [],
   "source": [
    "Nfla = 376_923\n",
    "Nmon = 735_267\n",
    "Nanc = 1_387_707\n",
    "#I am assuming tdiv is in generations\n",
    "tdiv = 2_526_063\n",
    "mig_rate = 1.290534027927228E-8"
   ]
  },
  {
   "cell_type": "markdown",
   "id": "62b1bf08",
   "metadata": {},
   "source": [
    "The sampling parameters are :\n",
    "- Recombination rate: 1.76E-8 (1.76E-8/2)\n",
    "- Gene conversion: 3.59E-08(Korunes & Noor 2018)\n",
    "- sample combinations: 81"
   ]
  },
  {
   "cell_type": "markdown",
   "id": "a8b39d3a",
   "metadata": {},
   "source": [
    "The code chunk below sets up an msprime simulation for a history of divergence between two species. For more info on the syntax see msprime manual."
   ]
  },
  {
   "cell_type": "code",
   "execution_count": 3,
   "id": "9f45de93",
   "metadata": {},
   "outputs": [],
   "source": [
    "# The number of samples (ie diploid individuals) per taxon. Based on the number of combos I am assuming this is nine:\n",
    "sample_size_mon = 9\n",
    "sample_size_fla = 9\n",
    "#This is the recombination rate; I am halving this (given that there is no recombination in males)  \n",
    "recr = 1.76E-8/2\n",
    "# Simulating a sequence as long as the inversion with this rec rate would take VERY long! \n",
    "# I am instead simulating 500 replicates (each of 100kb) for two scenarios:\n",
    "# background rec rate\n",
    "# 0 recombination \n",
    "#specify the sequence length\n",
    "sequence_length = 100_000\n",
    "\n",
    "num_rep = 500\n",
    "#Specify taxon names and values for split time and Ne \n",
    "demography = msprime.Demography()\n",
    "demography.add_population(name = \"Dmon\", initial_size = Nmon)\n",
    "demography.add_population(name = \"Dfla\", initial_size = Nfla)\n",
    "demography.add_population(name = \"ancestor\", initial_size = Nanc)\n",
    "demography.add_population_split(time = tdiv, derived=[\"Dmon\", \"Dfla\"], ancestral=\"ancestor\")\n",
    "demography.set_migration_rate(source=\"Dfla\", dest=\"Dmon\", rate=mig_rate)\n",
    "# This simulates replicates:\n",
    "replicates_bg = msprime.sim_ancestry(samples={\"Dmon\": sample_size_mon, \"Dfla\" : sample_size_fla}, \n",
    "                          sequence_length = sequence_length, recombination_rate= recr, \n",
    " gene_conversion_rate= 3.59E-08, gene_conversion_tract_length=390,\n",
    "                        random_seed = 123, demography=demography, num_replicates = num_rep)\n",
    "replicates_0rec = msprime.sim_ancestry(samples={\"Dmon\": sample_size_mon, \"Dfla\" : sample_size_fla}, \n",
    "                          sequence_length = sequence_length, recombination_rate=0,\n",
    "                        random_seed = 123, demography=demography, num_replicates = num_rep)"
   ]
  },
  {
   "cell_type": "code",
   "execution_count": 4,
   "id": "c9a071f2",
   "metadata": {},
   "outputs": [],
   "source": [
    "#Specify mu\n",
    "mu = 2.8e-9\n",
    "sim_dxy_bg = np.zeros(num_rep)\n",
    "# Note that the ancestry sims are only evaluated when we call/use replicates:\n",
    "# Use this loop to sim mutations for each replicate and record fst\n",
    "for replicate_index, ts in enumerate(replicates_bg):\n",
    "# Defining sample sets for the two populations. NOTE: each diploid sample contains two lineages, i.e. the index of samples from\n",
    "# Dmon is [0:18]      \n",
    "    A = ts.samples()[0:18]\n",
    "    B = ts.samples()[18:36]\n",
    "    ts_muts = msprime.sim_mutations(ts, rate=mu, random_seed=5678)\n",
    "    sim_dxy_bg[replicate_index] = ts_muts.Fst(sample_sets=[A, B])"
   ]
  },
  {
   "cell_type": "code",
   "execution_count": 5,
   "id": "9ec57c77",
   "metadata": {},
   "outputs": [],
   "source": [
    "sim_dxy_0rec = np.zeros(num_rep)\n",
    "#Use this loop to sim mutations for each replicate and record fst\n",
    "for replicate_index, ts in enumerate(replicates_0rec):\n",
    "# Defining sample sets for the two populations. NOTE: each diploid sample contains two lineages, i.e. the index of samples from\n",
    "# Dmon is [0:18]      \n",
    "    A = ts.samples()[0:18]\n",
    "    B = ts.samples()[18:36]\n",
    "    ts_muts = msprime.sim_mutations(ts, rate=mu, random_seed=38)\n",
    "    sim_dxy_0rec[replicate_index] = ts_muts.Fst(sample_sets=[A, B])"
   ]
  },
  {
   "cell_type": "markdown",
   "id": "a38e0920",
   "metadata": {},
   "source": [
    "Without recombination, $F_{ST}$ in 100kb of sequence has a very wide distribution, with rec under the background rate the distributions very tight. The distribution for inversions (which are subject to GC events and double cross over) is somewhere inbetween:"
   ]
  },
  {
   "cell_type": "code",
   "execution_count": 6,
   "id": "b2338719",
   "metadata": {},
   "outputs": [
    {
     "data": {
      "image/png": "[encoded data removed]",
      "text/plain": [
       "<Figure size 432x288 with 1 Axes>"
      ]
     },
     "metadata": {
      "needs_background": "light"
     },
     "output_type": "display_data"
    }
   ],
   "source": [
    "obs_dxy =  0.58566\n",
    "sns.histplot(sim_dxy_bg, color= 'b', binwidth = 0.005, binrange = [0,1])\n",
    "sns.histplot(sim_dxy_0rec, color= 'r', binwidth = 0.005, binrange = [0,1])\n",
    "plt.axvline(x =  0.58566, linewidth=2, color ='black')\n",
    "plt.show()"
   ]
  },
  {
   "cell_type": "markdown",
   "id": "75b7be33",
   "metadata": {},
   "source": [
    "What is the distribution of $F_{ST}$ if we assume only gene conversion happens? I am assuming a mean GC tract lenth of 100 bases (probably too long for Drosophila)"
   ]
  },
  {
   "cell_type": "code",
   "execution_count": 4,
   "id": "3338ba01",
   "metadata": {},
   "outputs": [],
   "source": [
    "replicates_GC = msprime.sim_ancestry(samples={\"Dmon\": sample_size_mon, \"Dfla\" : sample_size_fla}, \n",
    "                            sequence_length = 100_000, recombination_rate=0, \n",
    "                            gene_conversion_rate= 3.59E-08, gene_conversion_tract_length=390,\n",
    "                            random_seed = 123, demography=demography, num_replicates = num_rep)"
   ]
  },
  {
   "cell_type": "code",
   "execution_count": 5,
   "id": "a41d4b1d",
   "metadata": {},
   "outputs": [],
   "source": [
    "#Specify mu\n",
    "mu = 2.8e-9\n",
    "sim_dxy_GC = np.zeros(num_rep)\n",
    "# Use this loop to sim mutations for each replicate and record fst\n",
    "for replicate_index, ts in enumerate(replicates_GC):\n",
    "# Defining sample sets for the two populations. NOTE: each diploid sample contains two lineages, i.e. the index of samples from\n",
    "# Dmon is [0:18]     \n",
    "    A = ts.samples()[0:18]\n",
    "    B = ts.samples()[18:36]\n",
    "    ts_muts = msprime.sim_mutations(ts, rate=mu, random_seed=92)\n",
    "    sim_dxy_GC[replicate_index] = ts_muts.Fst(sample_sets=[A, B])"
   ]
  },
  {
   "cell_type": "code",
   "execution_count": 6,
   "id": "caa280a6",
   "metadata": {},
   "outputs": [
    {
     "data": {
      "image/png": "[encoded data removed]",
      "text/plain": [
       "<Figure size 432x288 with 1 Axes>"
      ]
     },
     "metadata": {
      "needs_background": "light"
     },
     "output_type": "display_data"
    }
   ],
   "source": [
    "obs_dxy =  0.58566\n",
    "sns.histplot(sim_dxy_GC, color= 'b', binwidth = 0.005, binrange = [0,1])\n",
    "plt.axvline(x =  obs_dxy, linewidth=2, color ='black')\n",
    "plt.show()"
   ]
  },
  {
   "cell_type": "markdown",
   "id": "e7eb7e84",
   "metadata": {},
   "source": [
    "We can use the distribution of $F_{ST}$ across sim replicates to find the p value for any observed increase $F_{ST}$ in inverted region; i.e. let's say we observed $F_{ST} = 0.059295$ in the 4 inversion: "
   ]
  },
  {
   "cell_type": "code",
   "execution_count": 7,
   "id": "e61d00a9",
   "metadata": {},
   "outputs": [
    {
     "data": {
      "text/plain": [
       "0.752"
      ]
     },
     "execution_count": 7,
     "metadata": {},
     "output_type": "execute_result"
    }
   ],
   "source": [
    "inv4dxy = 0.59295\n",
    "greater = sim_dxy_GC > inv4dxy\n",
    "greater.sum()/500"
   ]
  },
  {
   "cell_type": "code",
   "execution_count": 8,
   "id": "13d8c94e",
   "metadata": {},
   "outputs": [
    {
     "data": {
      "text/plain": [
       "0.29"
      ]
     },
     "execution_count": 8,
     "metadata": {},
     "output_type": "execute_result"
    }
   ],
   "source": [
    "inv5dxy = 0.61096\n",
    "greater = sim_dxy_GC > inv5dxy\n",
    "greater.sum()/500"
   ]
  },
  {
   "cell_type": "markdown",
   "id": "64927f07",
   "metadata": {},
   "source": [
    "The problem is coming up with a minimal model of recombination in inversions that is simple, can be simulated and is conservative. The hope would be that $d_{xy}$ an inversion is significantly higher even if we base significance on sims under a really drastic model: e.g. sequences that recombine less and are shorter than the real inversions..."
   ]
  }
 ],
 "metadata": {
  "kernelspec": {
   "display_name": "jupyter_notebook",
   "language": "python",
   "name": "jupyter_notebook"
  },
  "language_info": {
   "codemirror_mode": {
    "name": "ipython",
    "version": 3
   },
   "file_extension": ".py",
   "mimetype": "text/x-python",
   "name": "python",
   "nbconvert_exporter": "python",
   "pygments_lexer": "ipython3",
   "version": "3.10.2"
  }
 },
 "nbformat": 4,
 "nbformat_minor": 5
}
